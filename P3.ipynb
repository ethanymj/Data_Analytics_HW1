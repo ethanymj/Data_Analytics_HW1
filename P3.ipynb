{
 "cells": [
  {
   "cell_type": "code",
   "execution_count": 69,
   "metadata": {},
   "outputs": [],
   "source": [
    "import math"
   ]
  },
  {
   "cell_type": "code",
   "execution_count": 70,
   "metadata": {},
   "outputs": [
    {
     "name": "stdout",
     "output_type": "stream",
     "text": [
      "[\"SPECIAL SECRET HEARTS: A Child's Introduction to Dementia and Pink Curls - A Santa ... - http://t.co/UWCdc8FA9a http://t.co/meexKLGTKl\\n\", '\"Santa Claus Is Coming To Town #MTVHottest Justin Bieber\"\\n', \"RT @BuyBookstore: SPECIAL SECRET HEARTS: A Child's Introduction to Dementia and Pink Curls - A Santa ... - http://t.co/UWCdc8FA9a http://t.\\x85\\n\", '\"RT @DrewFtDevonne_: Rt si te gusta Santa Claus Is Coming To Town #MTVHottest Justin Bieber\"\\n', '\"Rt si te gusta Santa Claus Is Coming To Town #MTVHottest Justin Bieber\"\\n']\n"
     ]
    }
   ],
   "source": [
    "# .(NONE), .read(), readlines()\n",
    "fr = open('Santa.txt', 'r').readlines()\n",
    "print(fr)"
   ]
  },
  {
   "cell_type": "code",
   "execution_count": 71,
   "metadata": {},
   "outputs": [],
   "source": [
    "#3(a) Convert each tweet into a dictionary of phrases\n",
    "def moving_window(line):\n",
    "    tweetDict = {}\n",
    "    splitted_line = line.split()\n",
    "    for i in range(len(splitted_line)-2):\n",
    "        pharse = ' '.join(splitted_line[i: i+3])\n",
    "        tweetDict[pharse] = 1\n",
    "#     print(tweetDict)\n",
    "    return tweetDict"
   ]
  },
  {
   "cell_type": "code",
   "execution_count": 72,
   "metadata": {},
   "outputs": [],
   "source": [
    "#3(b) Calculate similarity between two tweets \n",
    "def cosine(a_dict, b_dict):\n",
    "    a_list, b_list = [], []\n",
    "    for key in list(a_dict.keys())[:-1]:\n",
    "        a_list.append(key.split()[0])\n",
    "    a_list += list(a_dict.keys())[-1].split()\n",
    "    for key in list(b_dict.keys())[:-1]:\n",
    "        b_list.append(key.split()[0])\n",
    "    b_list += list(b_dict.keys())[-1].split()\n",
    "\n",
    "#     print('a_list', a_list) \n",
    "#     print('b_list', b_list)\n",
    "\n",
    "    a_list = [word.lower() for word in a_list]\n",
    "    b_list = [word.lower() for word in b_list]\n",
    "\n",
    "    a = set(a_list) & set(b_list)\n",
    "    cosine_similarity = len(a) / math.sqrt(len(a_list) * len(b_list))\n",
    "#     print(cosine_similarity)\n",
    "    return cosine_similarity"
   ]
  },
  {
   "cell_type": "code",
   "execution_count": 73,
   "metadata": {},
   "outputs": [
    {
     "name": "stdout",
     "output_type": "stream",
     "text": [
      "{'SPECIAL SECRET HEARTS:': 1, 'SECRET HEARTS: A': 1, \"HEARTS: A Child's\": 1, \"A Child's Introduction\": 1, \"Child's Introduction to\": 1, 'Introduction to Dementia': 1, 'to Dementia and': 1, 'Dementia and Pink': 1, 'and Pink Curls': 1, 'Pink Curls -': 1, 'Curls - A': 1, '- A Santa': 1, 'A Santa ...': 1, 'Santa ... -': 1, '... - http://t.co/UWCdc8FA9a': 1, '- http://t.co/UWCdc8FA9a http://t.co/meexKLGTKl': 1}\n",
      "{'\"Santa Claus Is': 1, 'Claus Is Coming': 1, 'Is Coming To': 1, 'Coming To Town': 1, 'To Town #MTVHottest': 1, 'Town #MTVHottest Justin': 1, '#MTVHottest Justin Bieber\"': 1}\n",
      "{'RT @BuyBookstore: SPECIAL': 1, '@BuyBookstore: SPECIAL SECRET': 1, 'SPECIAL SECRET HEARTS:': 1, 'SECRET HEARTS: A': 1, \"HEARTS: A Child's\": 1, \"A Child's Introduction\": 1, \"Child's Introduction to\": 1, 'Introduction to Dementia': 1, 'to Dementia and': 1, 'Dementia and Pink': 1, 'and Pink Curls': 1, 'Pink Curls -': 1, 'Curls - A': 1, '- A Santa': 1, 'A Santa ...': 1, 'Santa ... -': 1, '... - http://t.co/UWCdc8FA9a': 1, '- http://t.co/UWCdc8FA9a http://t.': 1}\n",
      "{'\"RT @DrewFtDevonne_: Rt': 1, '@DrewFtDevonne_: Rt si': 1, 'Rt si te': 1, 'si te gusta': 1, 'te gusta Santa': 1, 'gusta Santa Claus': 1, 'Santa Claus Is': 1, 'Claus Is Coming': 1, 'Is Coming To': 1, 'Coming To Town': 1, 'To Town #MTVHottest': 1, 'Town #MTVHottest Justin': 1, '#MTVHottest Justin Bieber\"': 1}\n",
      "{'\"Rt si te': 1, 'si te gusta': 1, 'te gusta Santa': 1, 'gusta Santa Claus': 1, 'Santa Claus Is': 1, 'Claus Is Coming': 1, 'Is Coming To': 1, 'Coming To Town': 1, 'To Town #MTVHottest': 1, 'Town #MTVHottest Justin': 1, '#MTVHottest Justin Bieber\"': 1}\n"
     ]
    }
   ],
   "source": [
    "all_tweets = []\n",
    "for line in fr:\n",
    "    tweetDict = moving_window(line)\n",
    "    all_tweets.append(tweetDict)\n",
    "    print(tweetDict)"
   ]
  },
  {
   "cell_type": "code",
   "execution_count": 74,
   "metadata": {},
   "outputs": [
    {
     "data": {
      "text/plain": [
       "0.07856742013183861"
      ]
     },
     "execution_count": 74,
     "metadata": {},
     "output_type": "execute_result"
    }
   ],
   "source": [
    "a_dict, b_dict = all_tweets[0], all_tweets[1]\n",
    "cosine(a_dict, b_dict)"
   ]
  },
  {
   "cell_type": "code",
   "execution_count": 75,
   "metadata": {},
   "outputs": [
    {
     "name": "stdout",
     "output_type": "stream",
     "text": [
      "These two tweets are similar, their similarity is 0.9309493362512627:\n",
      "\"RT @DrewFtDevonne_: Rt si te gusta Santa Claus Is Coming To Town #MTVHottest Justin Bieber\"\n",
      "\"Rt si te gusta Santa Claus Is Coming To Town #MTVHottest Justin Bieber\"\n",
      "\n"
     ]
    }
   ],
   "source": [
    "#3(c) Read in tweets, and output near-duplicates\n",
    "for idx in range(len(fr)-1):\n",
    "    a_dict, b_dict = moving_window(fr[idx]), moving_window(fr[idx+1])\n",
    "    cosine_similarity = cosine(a_dict, b_dict)\n",
    "    if cosine_similarity > 0.5:\n",
    "        print('These two tweets are similar, their similarity is {}:\\n{}{}'.format(cosine_similarity, fr[idx], fr[idx+1]))"
   ]
  },
  {
   "cell_type": "code",
   "execution_count": null,
   "metadata": {},
   "outputs": [],
   "source": []
  }
 ],
 "metadata": {
  "kernelspec": {
   "display_name": "Python 3",
   "language": "python",
   "name": "python3"
  },
  "language_info": {
   "codemirror_mode": {
    "name": "ipython",
    "version": 3
   },
   "file_extension": ".py",
   "mimetype": "text/x-python",
   "name": "python",
   "nbconvert_exporter": "python",
   "pygments_lexer": "ipython3",
   "version": "3.7.6"
  }
 },
 "nbformat": 4,
 "nbformat_minor": 4
}
