{
 "cells": [
  {
   "cell_type": "code",
   "execution_count": 1,
   "metadata": {},
   "outputs": [],
   "source": [
    "from random import randint\n",
    "import random\n",
    "from collections import Counter"
   ]
  },
  {
   "cell_type": "code",
   "execution_count": 2,
   "metadata": {},
   "outputs": [],
   "source": [
    "CompChoices = ['rock', 'paper', 'scissors']"
   ]
  },
  {
   "cell_type": "code",
   "execution_count": 3,
   "metadata": {},
   "outputs": [
    {
     "name": "stdout",
     "output_type": "stream",
     "text": [
      "Choose from 'rock', 'paper' or 'scissors'rock\n",
      "It is a draw!\n",
      "Choose from 'rock', 'paper' or 'scissors'ROCK\n",
      "You lose! Computer covers player.\n",
      "Choose from 'rock', 'paper' or 'scissors'PAPER\n",
      "It is a draw!\n",
      "Choose from 'rock', 'paper' or 'scissors'paper\n",
      "It is a draw!\n",
      "Choose from 'rock', 'paper' or 'scissors'quit\n",
      "Human has played 4 times.\n",
      "Human has won 0 times.\n"
     ]
    }
   ],
   "source": [
    "PlayerChoices = []\n",
    "HumanPlays, HumanWins = 0, 0\n",
    "while True:\n",
    "    \n",
    "    CountedChoices = Counter(PlayerChoices)\n",
    "    if not CountedChoices: # if contedchoices is not (空)\n",
    "        computer = CompChoices[randint(0,2)]\n",
    "    else:\n",
    "        FrequentChoices = []\n",
    "        for choice, past_counts in CountedChoices.items():\n",
    "            if(past_counts == max(CountedChoices.values())):\n",
    "                FrequentChoices.append(choice)\n",
    "        HumanPastChoice = random.choice(FrequentChoices)\n",
    "        if HumanPastChoice.lower() == 'rock':\n",
    "            computer = 'paper'\n",
    "        elif HumanPastChoice.lower() == 'paper':\n",
    "            computer = 'scissors'\n",
    "        else:\n",
    "            computer = 'rock'\n",
    "    player = input (\"Choose from 'rock', 'paper' or 'scissors'\")\n",
    "    HumanPlays += 1\n",
    "    PlayerChoices.append(player)\n",
    "    \n",
    "    if player.lower() == 'quit':\n",
    "        break\n",
    "    \n",
    "    if player.lower() == 'rock':\n",
    "        if computer.lower() == 'rock':\n",
    "            print('It is a draw!')\n",
    "        if computer.lower() == 'scissors':\n",
    "            print('You win! Player smashes computer.')\n",
    "            HumanWins += 1\n",
    "        if computer.lower() == 'paper':\n",
    "            print('You lose! Computer covers player.')\n",
    "    \n",
    "    elif player.lower() == 'paper':\n",
    "        if computer.lower() == 'paper':\n",
    "            print('It is a draw!')\n",
    "        if computer.lower() == 'rock':\n",
    "            print('You win! Player covers computer.')\n",
    "            HumanWins += 1\n",
    "        if computer.lower() == 'scissors':\n",
    "            print('You lose! Computer cuts up player.')\n",
    "\n",
    "    elif player.lower() == 'scissors':\n",
    "        if computer == 'scissors':\n",
    "            print('It is a draw!')\n",
    "        if computer == 'paper':\n",
    "            print('You win! Player cuts up computer.')\n",
    "            HumanWins += 1\n",
    "        if computer == 'rock':\n",
    "            print('You lose! Computer smashes player.')\n",
    "    \n",
    "    else:\n",
    "        print ('Opps, error. Check the spell!')\n",
    "\n",
    "## Report results        \n",
    "print('Human has played {} times.'.format(HumanPlays-1))        \n",
    "print('Human has won {} times.'.format(HumanWins)) "
   ]
  },
  {
   "cell_type": "code",
   "execution_count": null,
   "metadata": {},
   "outputs": [],
   "source": []
  },
  {
   "cell_type": "code",
   "execution_count": null,
   "metadata": {},
   "outputs": [],
   "source": []
  }
 ],
 "metadata": {
  "kernelspec": {
   "display_name": "Python 3",
   "language": "python",
   "name": "python3"
  },
  "language_info": {
   "codemirror_mode": {
    "name": "ipython",
    "version": 3
   },
   "file_extension": ".py",
   "mimetype": "text/x-python",
   "name": "python",
   "nbconvert_exporter": "python",
   "pygments_lexer": "ipython3",
   "version": "3.7.6"
  }
 },
 "nbformat": 4,
 "nbformat_minor": 4
}
